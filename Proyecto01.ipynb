{
  "nbformat": 4,
  "nbformat_minor": 0,
  "metadata": {
    "colab": {
      "provenance": []
    },
    "kernelspec": {
      "name": "python3",
      "display_name": "Python 3"
    },
    "language_info": {
      "name": "python"
    }
  },
  "cells": [
    {
      "cell_type": "markdown",
      "source": [
        "Integrantes: Melisa Nuñez, David Bejar"
      ],
      "metadata": {
        "id": "An2UvhwPViw_"
      }
    },
    {
      "cell_type": "code",
      "source": [
        "!pip install pyspark"
      ],
      "metadata": {
        "colab": {
          "base_uri": "https://localhost:8080/"
        },
        "id": "is6SodNCWZ7p",
        "outputId": "963d26f9-e5b1-4098-d5b9-ae71ba14e713"
      },
      "execution_count": null,
      "outputs": [
        {
          "output_type": "stream",
          "name": "stdout",
          "text": [
            "Looking in indexes: https://pypi.org/simple, https://us-python.pkg.dev/colab-wheels/public/simple/\n",
            "Collecting pyspark\n",
            "  Downloading pyspark-3.3.1.tar.gz (281.4 MB)\n",
            "\u001b[2K     \u001b[90m━━━━━━━━━━━━━━━━━━━━━━━━━━━━━━━━━━━━━━━\u001b[0m \u001b[32m281.4/281.4 MB\u001b[0m \u001b[31m1.7 MB/s\u001b[0m eta \u001b[36m0:00:00\u001b[0m\n",
            "\u001b[?25h  Preparing metadata (setup.py) ... \u001b[?25l\u001b[?25hdone\n",
            "Collecting py4j==0.10.9.5\n",
            "  Downloading py4j-0.10.9.5-py2.py3-none-any.whl (199 kB)\n",
            "\u001b[2K     \u001b[90m━━━━━━━━━━━━━━━━━━━━━━━━━━━━━━━━━━━━━━━\u001b[0m \u001b[32m199.7/199.7 KB\u001b[0m \u001b[31m9.3 MB/s\u001b[0m eta \u001b[36m0:00:00\u001b[0m\n",
            "\u001b[?25hBuilding wheels for collected packages: pyspark\n",
            "  Building wheel for pyspark (setup.py) ... \u001b[?25l\u001b[?25hdone\n",
            "  Created wheel for pyspark: filename=pyspark-3.3.1-py2.py3-none-any.whl size=281845512 sha256=e77aa7da5ebdf8a58d9620ce63bc892113e24dffe8af12bceb63f1353a1e5b56\n",
            "  Stored in directory: /root/.cache/pip/wheels/43/dc/11/ec201cd671da62fa9c5cc77078235e40722170ceba231d7598\n",
            "Successfully built pyspark\n",
            "Installing collected packages: py4j, pyspark\n",
            "Successfully installed py4j-0.10.9.5 pyspark-3.3.1\n"
          ]
        }
      ]
    },
    {
      "cell_type": "code",
      "execution_count": null,
      "metadata": {
        "colab": {
          "base_uri": "https://localhost:8080/"
        },
        "id": "UHA8JQGcVh2i",
        "outputId": "7fdfe708-257b-4527-bc27-455eac5449b0"
      },
      "outputs": [
        {
          "output_type": "stream",
          "name": "stdout",
          "text": [
            "Mounted at /content/drive\n"
          ]
        }
      ],
      "source": [
        "from google.colab import drive\n",
        "drive.mount ('/content/drive')"
      ]
    },
    {
      "cell_type": "code",
      "source": [
        "from pyspark.sql import SparkSession\n",
        "spark = SparkSession.builder.master(\"local\").appName(\"Ej1\").config('spark.ui.port','4050').getOrCreate()"
      ],
      "metadata": {
        "id": "ZwEyQzgIWvLV"
      },
      "execution_count": null,
      "outputs": []
    },
    {
      "cell_type": "code",
      "source": [
        "df = spark.read.csv('/content/drive/MyDrive/Proyecto/NARVAEZ OCHOA Y PARDO FLORES TESIS TERMINADA.csv',inferSchema=True,header=True)"
      ],
      "metadata": {
        "id": "Vyw8q-PXWx3z"
      },
      "execution_count": null,
      "outputs": []
    },
    {
      "cell_type": "code",
      "source": [
        "df.show()"
      ],
      "metadata": {
        "colab": {
          "base_uri": "https://localhost:8080/"
        },
        "id": "t71x7e5oXG41",
        "outputId": "0be6b38a-8571-4662-a0af-05e157a2e8bb"
      },
      "execution_count": null,
      "outputs": [
        {
          "output_type": "stream",
          "name": "stdout",
          "text": [
            "+--------------------------------------------+----+----+----+----+----+----+\n",
            "|REPOSITORIO NACIONAL EN CIENCIA Y TECNOLOGÍA| _c1| _c2| _c3| _c4| _c5| _c6|\n",
            "+--------------------------------------------+----+----+----+----+----+----+\n",
            "|                        FICHA DE REGISTRO...|null|null|null|null|null|null|\n",
            "|                        “El Desempleo de ...|null|null|null|null|null|null|\n",
            "|                         TÍTULO Y SUBTÍTULO:|null|null|null|null|null|null|\n",
            "|                        de planificación ...|null|null|null|null|null|null|\n",
            "|                        AUTOR(ES) Narváez...|null|null|null|null|null|null|\n",
            "|                        (apellidos/nombre...|null|null|null|null|null|null|\n",
            "|                        REVISOR(ES)/TUTOR...|null|null|null|null|null|null|\n",
            "|                        (apellidos/nombres):|null|null|null|null|null|null|\n",
            "|                        INSTITUCIÓN: Univ...|null|null|null|null|null|null|\n",
            "|                        UNIDAD/FACULTAD: ...|null|null|null|null|null|null|\n",
            "|                        MAESTRÍA/ESPECIAL...|null|null|null|null|null|null|\n",
            "|                        GRADO OBTENIDO: E...|null|null|null|null|null|null|\n",
            "|                        FECHA DE PUBLICAC...|null|null|null|null|null|null|\n",
            "|                        Economía y Desarr...|null|null|null|null|null|null|\n",
            "|                        ÁREAS TEMÁTICAS: ...|null|null|null|null|null|null|\n",
            "|                         análisis económico)|null|null|null|null|null|null|\n",
            "|                        Discapacidad, Inc...|null|null|null|null|null|null|\n",
            "|                        PALABRAS CLAVES/ ...|null|null|null|null|null|null|\n",
            "|                        RESUMEN/ABSTRACT ...|null|null|null|null|null|null|\n",
            "|                        El proyecto de in...|null|null|null|null|null|null|\n",
            "+--------------------------------------------+----+----+----+----+----+----+\n",
            "only showing top 20 rows\n",
            "\n"
          ]
        }
      ]
    },
    {
      "cell_type": "code",
      "source": [
        "df.na.drop().show()"
      ],
      "metadata": {
        "colab": {
          "base_uri": "https://localhost:8080/"
        },
        "id": "E7sEDx1XZfm0",
        "outputId": "0856909c-ebd0-4ccf-cbd7-f7af2ff660ea"
      },
      "execution_count": null,
      "outputs": [
        {
          "output_type": "stream",
          "name": "stdout",
          "text": [
            "+--------------------------------------------+---+---+---+---+---+---+\n",
            "|REPOSITORIO NACIONAL EN CIENCIA Y TECNOLOGÍA|_c1|_c2|_c3|_c4|_c5|_c6|\n",
            "+--------------------------------------------+---+---+---+---+---+---+\n",
            "+--------------------------------------------+---+---+---+---+---+---+\n",
            "\n"
          ]
        }
      ]
    },
    {
      "cell_type": "code",
      "source": [
        "def sparkShape(dataFrame):\n",
        "  return (df.count(),len(df.columns))"
      ],
      "metadata": {
        "id": "eMZ-MDvgaKyN"
      },
      "execution_count": null,
      "outputs": []
    },
    {
      "cell_type": "code",
      "source": [
        "sparkShape(df)"
      ],
      "metadata": {
        "colab": {
          "base_uri": "https://localhost:8080/"
        },
        "id": "43WM7buEaL15",
        "outputId": "6b87be37-fed1-4c65-c10f-9577b2d8b024"
      },
      "execution_count": null,
      "outputs": [
        {
          "output_type": "execute_result",
          "data": {
            "text/plain": [
              "(183, 7)"
            ]
          },
          "metadata": {},
          "execution_count": 8
        }
      ]
    },
    {
      "cell_type": "code",
      "source": [
        "df.groupBy('REPOSITORIO NACIONAL EN CIENCIA Y TECNOLOGÍA').count().show()"
      ],
      "metadata": {
        "colab": {
          "base_uri": "https://localhost:8080/"
        },
        "id": "Y3w4HswQbWc_",
        "outputId": "47dbde62-eb97-4a9b-a0bd-ce426be30a00"
      },
      "execution_count": null,
      "outputs": [
        {
          "output_type": "stream",
          "name": "stdout",
          "text": [
            "+--------------------------------------------+-----+\n",
            "|REPOSITORIO NACIONAL EN CIENCIA Y TECNOLOGÍA|count|\n",
            "+--------------------------------------------+-----+\n",
            "|                                       Total|    1|\n",
            "|                                    y edad.\"|    1|\n",
            "|                        Empleado u obrero...|    1|\n",
            "|                          Desempleo  445.172|    1|\n",
            "|                        Empleado(a) obrer...|    1|\n",
            "|                                  Patrono(a)|    1|\n",
            "|                        4. Señalar las po...|    1|\n",
            "|                               Independiente|    1|\n",
            "|                        complejo que refl...|    1|\n",
            "|                                        Sexo|    1|\n",
            "|                             De 36 a 64 años|    2|\n",
            "|                        AUTOR(ES) Narváez...|    1|\n",
            "|                        Personas con Disc...|    1|\n",
            "|                        de planificación ...|    1|\n",
            "|                         Coeficiente de GINI|    1|\n",
            "|                        Empleo no clasifi...|    1|\n",
            "|                        económico, educat...|    1|\n",
            "|                                   Variables|    2|\n",
            "|                         trabajo en Ecuador.|    1|\n",
            "|                        0969701301 Ginger...|    1|\n",
            "+--------------------------------------------+-----+\n",
            "only showing top 20 rows\n",
            "\n"
          ]
        }
      ]
    },
    {
      "cell_type": "code",
      "source": [
        "#df_Spacio=df.strip()\n",
        "#df_Spacio.show()"
      ],
      "metadata": {
        "id": "a6y6zL9Rkxwa"
      },
      "execution_count": null,
      "outputs": []
    },
    {
      "cell_type": "code",
      "source": [
        "df = df.drop('_c1')\n",
        "df = df.drop('_c2')\n",
        "df = df.drop('_c3')\n",
        "df = df.drop('_c4')\n",
        "df = df.drop('_c5')\n",
        "df = df.drop('_c6')\n",
        "df.show()"
      ],
      "metadata": {
        "colab": {
          "base_uri": "https://localhost:8080/"
        },
        "id": "8qW8BBMVwQEt",
        "outputId": "174c6a31-c036-46bd-aff3-16bbe09d93b3"
      },
      "execution_count": null,
      "outputs": [
        {
          "output_type": "stream",
          "name": "stdout",
          "text": [
            "+--------------------------------------------+\n",
            "|REPOSITORIO NACIONAL EN CIENCIA Y TECNOLOGÍA|\n",
            "+--------------------------------------------+\n",
            "|                        FICHA DE REGISTRO...|\n",
            "|                        “El Desempleo de ...|\n",
            "|                         TÍTULO Y SUBTÍTULO:|\n",
            "|                        de planificación ...|\n",
            "|                        AUTOR(ES) Narváez...|\n",
            "|                        (apellidos/nombre...|\n",
            "|                        REVISOR(ES)/TUTOR...|\n",
            "|                        (apellidos/nombres):|\n",
            "|                        INSTITUCIÓN: Univ...|\n",
            "|                        UNIDAD/FACULTAD: ...|\n",
            "|                        MAESTRÍA/ESPECIAL...|\n",
            "|                        GRADO OBTENIDO: E...|\n",
            "|                        FECHA DE PUBLICAC...|\n",
            "|                        Economía y Desarr...|\n",
            "|                        ÁREAS TEMÁTICAS: ...|\n",
            "|                         análisis económico)|\n",
            "|                        Discapacidad, Inc...|\n",
            "|                        PALABRAS CLAVES/ ...|\n",
            "|                        RESUMEN/ABSTRACT ...|\n",
            "|                        El proyecto de in...|\n",
            "+--------------------------------------------+\n",
            "only showing top 20 rows\n",
            "\n"
          ]
        }
      ]
    },
    {
      "cell_type": "markdown",
      "source": [
        "##TO PANDAS TRANSFORMA PYSPARK EN PANDAS"
      ],
      "metadata": {
        "id": "DG8sQNqokhQ5"
      }
    },
    {
      "cell_type": "code",
      "source": [
        "dfpanda = df.toPandas()"
      ],
      "metadata": {
        "id": "Vh6m_n1UbvMg"
      },
      "execution_count": null,
      "outputs": []
    },
    {
      "cell_type": "code",
      "source": [
        "dfpanda.head(10)"
      ],
      "metadata": {
        "colab": {
          "base_uri": "https://localhost:8080/",
          "height": 363
        },
        "id": "TkOWXt0yj23A",
        "outputId": "8843a99b-a305-44c7-b330-8e1be1a6d577"
      },
      "execution_count": null,
      "outputs": [
        {
          "output_type": "execute_result",
          "data": {
            "text/plain": [
              "        REPOSITORIO NACIONAL EN CIENCIA Y TECNOLOGÍA\n",
              "0         FICHA DE REGISTRO DE TRABAJO DE TITULACIÓN\n",
              "1  “El Desempleo de las personas con discapacidad...\n",
              "2                                TÍTULO Y SUBTÍTULO:\n",
              "3  de planificación 9 del ecuador. Periodo 2016-2...\n",
              "4           AUTOR(ES) Narváez Ochoa Ginger Madelaine\n",
              "5       (apellidos/nombres): Pardo Flores Rosa María\n",
              "6  REVISOR(ES)/TUTOR(ES) Ing. Aguilar Sinche Marí...\n",
              "7                               (apellidos/nombres):\n",
              "8              INSTITUCIÓN: Universidad de Guayaquil\n",
              "9   UNIDAD/FACULTAD: Facultad de Ciencias Económicas"
            ],
            "text/html": [
              "\n",
              "  <div id=\"df-eecd8aea-884c-488a-b2f4-c6fbb5d43db3\">\n",
              "    <div class=\"colab-df-container\">\n",
              "      <div>\n",
              "<style scoped>\n",
              "    .dataframe tbody tr th:only-of-type {\n",
              "        vertical-align: middle;\n",
              "    }\n",
              "\n",
              "    .dataframe tbody tr th {\n",
              "        vertical-align: top;\n",
              "    }\n",
              "\n",
              "    .dataframe thead th {\n",
              "        text-align: right;\n",
              "    }\n",
              "</style>\n",
              "<table border=\"1\" class=\"dataframe\">\n",
              "  <thead>\n",
              "    <tr style=\"text-align: right;\">\n",
              "      <th></th>\n",
              "      <th>REPOSITORIO NACIONAL EN CIENCIA Y TECNOLOGÍA</th>\n",
              "    </tr>\n",
              "  </thead>\n",
              "  <tbody>\n",
              "    <tr>\n",
              "      <th>0</th>\n",
              "      <td>FICHA DE REGISTRO DE TRABAJO DE TITULACIÓN</td>\n",
              "    </tr>\n",
              "    <tr>\n",
              "      <th>1</th>\n",
              "      <td>“El Desempleo de las personas con discapacidad...</td>\n",
              "    </tr>\n",
              "    <tr>\n",
              "      <th>2</th>\n",
              "      <td>TÍTULO Y SUBTÍTULO:</td>\n",
              "    </tr>\n",
              "    <tr>\n",
              "      <th>3</th>\n",
              "      <td>de planificación 9 del ecuador. Periodo 2016-2...</td>\n",
              "    </tr>\n",
              "    <tr>\n",
              "      <th>4</th>\n",
              "      <td>AUTOR(ES) Narváez Ochoa Ginger Madelaine</td>\n",
              "    </tr>\n",
              "    <tr>\n",
              "      <th>5</th>\n",
              "      <td>(apellidos/nombres): Pardo Flores Rosa María</td>\n",
              "    </tr>\n",
              "    <tr>\n",
              "      <th>6</th>\n",
              "      <td>REVISOR(ES)/TUTOR(ES) Ing. Aguilar Sinche Marí...</td>\n",
              "    </tr>\n",
              "    <tr>\n",
              "      <th>7</th>\n",
              "      <td>(apellidos/nombres):</td>\n",
              "    </tr>\n",
              "    <tr>\n",
              "      <th>8</th>\n",
              "      <td>INSTITUCIÓN: Universidad de Guayaquil</td>\n",
              "    </tr>\n",
              "    <tr>\n",
              "      <th>9</th>\n",
              "      <td>UNIDAD/FACULTAD: Facultad de Ciencias Económicas</td>\n",
              "    </tr>\n",
              "  </tbody>\n",
              "</table>\n",
              "</div>\n",
              "      <button class=\"colab-df-convert\" onclick=\"convertToInteractive('df-eecd8aea-884c-488a-b2f4-c6fbb5d43db3')\"\n",
              "              title=\"Convert this dataframe to an interactive table.\"\n",
              "              style=\"display:none;\">\n",
              "        \n",
              "  <svg xmlns=\"http://www.w3.org/2000/svg\" height=\"24px\"viewBox=\"0 0 24 24\"\n",
              "       width=\"24px\">\n",
              "    <path d=\"M0 0h24v24H0V0z\" fill=\"none\"/>\n",
              "    <path d=\"M18.56 5.44l.94 2.06.94-2.06 2.06-.94-2.06-.94-.94-2.06-.94 2.06-2.06.94zm-11 1L8.5 8.5l.94-2.06 2.06-.94-2.06-.94L8.5 2.5l-.94 2.06-2.06.94zm10 10l.94 2.06.94-2.06 2.06-.94-2.06-.94-.94-2.06-.94 2.06-2.06.94z\"/><path d=\"M17.41 7.96l-1.37-1.37c-.4-.4-.92-.59-1.43-.59-.52 0-1.04.2-1.43.59L10.3 9.45l-7.72 7.72c-.78.78-.78 2.05 0 2.83L4 21.41c.39.39.9.59 1.41.59.51 0 1.02-.2 1.41-.59l7.78-7.78 2.81-2.81c.8-.78.8-2.07 0-2.86zM5.41 20L4 18.59l7.72-7.72 1.47 1.35L5.41 20z\"/>\n",
              "  </svg>\n",
              "      </button>\n",
              "      \n",
              "  <style>\n",
              "    .colab-df-container {\n",
              "      display:flex;\n",
              "      flex-wrap:wrap;\n",
              "      gap: 12px;\n",
              "    }\n",
              "\n",
              "    .colab-df-convert {\n",
              "      background-color: #E8F0FE;\n",
              "      border: none;\n",
              "      border-radius: 50%;\n",
              "      cursor: pointer;\n",
              "      display: none;\n",
              "      fill: #1967D2;\n",
              "      height: 32px;\n",
              "      padding: 0 0 0 0;\n",
              "      width: 32px;\n",
              "    }\n",
              "\n",
              "    .colab-df-convert:hover {\n",
              "      background-color: #E2EBFA;\n",
              "      box-shadow: 0px 1px 2px rgba(60, 64, 67, 0.3), 0px 1px 3px 1px rgba(60, 64, 67, 0.15);\n",
              "      fill: #174EA6;\n",
              "    }\n",
              "\n",
              "    [theme=dark] .colab-df-convert {\n",
              "      background-color: #3B4455;\n",
              "      fill: #D2E3FC;\n",
              "    }\n",
              "\n",
              "    [theme=dark] .colab-df-convert:hover {\n",
              "      background-color: #434B5C;\n",
              "      box-shadow: 0px 1px 3px 1px rgba(0, 0, 0, 0.15);\n",
              "      filter: drop-shadow(0px 1px 2px rgba(0, 0, 0, 0.3));\n",
              "      fill: #FFFFFF;\n",
              "    }\n",
              "  </style>\n",
              "\n",
              "      <script>\n",
              "        const buttonEl =\n",
              "          document.querySelector('#df-eecd8aea-884c-488a-b2f4-c6fbb5d43db3 button.colab-df-convert');\n",
              "        buttonEl.style.display =\n",
              "          google.colab.kernel.accessAllowed ? 'block' : 'none';\n",
              "\n",
              "        async function convertToInteractive(key) {\n",
              "          const element = document.querySelector('#df-eecd8aea-884c-488a-b2f4-c6fbb5d43db3');\n",
              "          const dataTable =\n",
              "            await google.colab.kernel.invokeFunction('convertToInteractive',\n",
              "                                                     [key], {});\n",
              "          if (!dataTable) return;\n",
              "\n",
              "          const docLinkHtml = 'Like what you see? Visit the ' +\n",
              "            '<a target=\"_blank\" href=https://colab.research.google.com/notebooks/data_table.ipynb>data table notebook</a>'\n",
              "            + ' to learn more about interactive tables.';\n",
              "          element.innerHTML = '';\n",
              "          dataTable['output_type'] = 'display_data';\n",
              "          await google.colab.output.renderOutput(dataTable, element);\n",
              "          const docLink = document.createElement('div');\n",
              "          docLink.innerHTML = docLinkHtml;\n",
              "          element.appendChild(docLink);\n",
              "        }\n",
              "      </script>\n",
              "    </div>\n",
              "  </div>\n",
              "  "
            ]
          },
          "metadata": {},
          "execution_count": 21
        }
      ]
    },
    {
      "cell_type": "code",
      "source": [
        "dfpanda['REPOSITORIO NACIONAL EN CIENCIA Y TECNOLOGÍA'].value_counts()[:21].plot(kind='barh')"
      ],
      "metadata": {
        "colab": {
          "base_uri": "https://localhost:8080/",
          "height": 283
        },
        "id": "VobRO5CIb7FF",
        "outputId": "1feea3ed-84e5-4796-af3a-7bf8796f18b8"
      },
      "execution_count": null,
      "outputs": [
        {
          "output_type": "execute_result",
          "data": {
            "text/plain": [
              "<matplotlib.axes._subplots.AxesSubplot at 0x7f02e8fe4d00>"
            ]
          },
          "metadata": {},
          "execution_count": 23
        },
        {
          "output_type": "display_data",
          "data": {
            "text/plain": [
              "<Figure size 432x288 with 1 Axes>"
            ],
            "image/png": "[encoded data removed]"
          },
          "metadata": {
            "needs_background": "light"
          }
        }
      ]
    },
    {
      "cell_type": "code",
      "source": [
        "dfpanda['REPOSITORIO NACIONAL EN CIENCIA Y TECNOLOGÍA'].value_counts().head(5).plot.pie(autopct='%.2f%%',figsize=(8,10))"
      ],
      "metadata": {
        "colab": {
          "base_uri": "https://localhost:8080/",
          "height": 495
        },
        "id": "q8YkklOVcbbN",
        "outputId": "ac73dbc7-8bef-4d0f-bd03-28d0fac8e859"
      },
      "execution_count": null,
      "outputs": [
        {
          "output_type": "execute_result",
          "data": {
            "text/plain": [
              "<matplotlib.axes._subplots.AxesSubplot at 0x7f02e9febee0>"
            ]
          },
          "metadata": {},
          "execution_count": 22
        },
        {
          "output_type": "display_data",
          "data": {
            "text/plain": [
              "<Figure size 576x720 with 1 Axes>"
            ],
            "image/png": "[encoded data removed]"
          },
          "metadata": {}
        }
      ]
    },
    {
      "cell_type": "markdown",
      "source": [
        "##Lda WITH PANDA"
      ],
      "metadata": {
        "id": "cfV-Kki2l8Iz"
      }
    },
    {
      "cell_type": "code",
      "source": [
        "corpus = list(dfpanda['REPOSITORIO NACIONAL EN CIENCIA Y TECNOLOGÍA'])\n",
        "print(len(corpus))\n",
        "palabras_vacias = [linea.rstrip('\\n') for linea in open ('/content/drive/My Drive/database/spanish.txt')]\n",
        "len(palabras_vacias)"
      ],
      "metadata": {
        "colab": {
          "base_uri": "https://localhost:8080/"
        },
        "id": "cc16WBf2mAzf",
        "outputId": "a878d515-7bb7-4349-f478-d0bdb6ced8c5"
      },
      "execution_count": null,
      "outputs": [
        {
          "output_type": "stream",
          "name": "stdout",
          "text": [
            "183\n"
          ]
        },
        {
          "output_type": "execute_result",
          "data": {
            "text/plain": [
              "608"
            ]
          },
          "metadata": {},
          "execution_count": 82
        }
      ]
    },
    {
      "cell_type": "code",
      "source": [
        "import re\n",
        "def clean_text(t):\n",
        "  t = str(t)\n",
        "  t = re.sub(r'\\d+',' ',t)\n",
        "  t = re.sub(r'[^\\w\\n]',' ',t)\n",
        "  t = re.sub(r'\\s\\s+',' ',t)\n",
        "  t = t.lower()\n",
        "  return t"
      ],
      "metadata": {
        "id": "TW6x3_9pmOy9"
      },
      "execution_count": null,
      "outputs": []
    },
    {
      "cell_type": "code",
      "source": [
        "corpus = [clean_text(t) for t in corpus]"
      ],
      "metadata": {
        "id": "p9yJYLYGl54v"
      },
      "execution_count": null,
      "outputs": []
    },
    {
      "cell_type": "code",
      "source": [
        "corpus"
      ],
      "metadata": {
        "colab": {
          "base_uri": "https://localhost:8080/"
        },
        "id": "h6G52n4smejW",
        "outputId": "553df689-b94f-486d-9042-ef5f4fa76287"
      },
      "execution_count": null,
      "outputs": [
        {
          "output_type": "execute_result",
          "data": {
            "text/plain": [
              "['ficha de registro de trabajo de titulación',\n",
              " ' el desempleo de las personas con discapacidad en la zona',\n",
              " 'título y subtítulo ',\n",
              " 'de planificación del ecuador periodo ',\n",
              " 'autor es narváez ochoa ginger madelaine',\n",
              " ' apellidos nombres pardo flores rosa maría',\n",
              " 'revisor es tutor es ing aguilar sinche maría belén mgs ',\n",
              " ' apellidos nombres ',\n",
              " 'institución universidad de guayaquil',\n",
              " 'unidad facultad facultad de ciencias económicas',\n",
              " 'maestría especialidad economía modalidad semestral',\n",
              " 'grado obtenido economista',\n",
              " 'fecha de publicación octubre no de páginas ',\n",
              " 'economía y desarrollo local',\n",
              " 'áreas temáticas desarrollo territorial demografía proceso productivo ',\n",
              " 'análisis económico ',\n",
              " 'discapacidad inclusión laboral mercado laboral políticas',\n",
              " 'palabras claves keywords públicas ',\n",
              " 'resumen abstract palabras ',\n",
              " 'el proyecto de investigación realizado tiene como finalidad brindar información para tener un',\n",
              " 'mayor conocimiento de los problemas y necesidades que afrontan a diario las personas con',\n",
              " 'discapacidad al momento de realizar la búsqueda de un empleo adecuado en la zona del',\n",
              " 'ecuador conformada por el distrito metropolitano de quito del ecuador ',\n",
              " 'se sitúan los antecedentes generales y el resultado de las variables analizadas como los del',\n",
              " 'como la escolaridad y los usuarios beneficiarios de las pensiones los tipos y grados de',\n",
              " 'discapacidad tienen una relación muy estrecha con las personas que poseen actualmente',\n",
              " 'empleo una contraposición a las personas discapacitadas que no lo tienen es decir en el',\n",
              " 'mercado laboral ecuatoriano no son aceptados todos los tipos de discapacidad que pueda',\n",
              " 'poseer una persona sin embargo bajo una normativa la contratación limita el pleno empleo',\n",
              " 'de las personas con discapacidad por lo que se espera promover la igualdad de oportunidades',\n",
              " 'para las personas según el grado y tipo de discapacidad que tengan o por lo menos aumentar',\n",
              " 'el número de personas sustituto con el objetivo de aportar significativamente la cantidad de',\n",
              " 'personas con discapacidad laboralmente activas e impulsar políticas inclusivas de carácter',\n",
              " 'económico educativo y social con el propósito de crear oportunidades laborales ',\n",
              " 'adjunto pdf si no',\n",
              " 'contacto con autor es teléfono e mail ',\n",
              " ' ginger narvaezoch ug edu ec',\n",
              " ' rosa pardoflores ug edu ec',\n",
              " 'contacto con la nombre econ natalia andrade moreira msc',\n",
              " 'institución teléfono ext ',\n",
              " 'e mail natalia andradem ug edu ec',\n",
              " 'indicadores económicos',\n",
              " 'pea total ',\n",
              " 'pea con discapacidad ',\n",
              " 'tasa de desempleo ',\n",
              " 'personas con discapacidad en extrema pobreza ',\n",
              " ' cómo las condiciones socioeconómicas de las personas discapacitadas impactan en su',\n",
              " 'inserción al mercado de trabajo ',\n",
              " ' cómo las políticas públicas y el desarrollo económico influirían para reducir las tasas',\n",
              " 'desempleo de las personas discapacitadas ',\n",
              " ' objetivos de la investigación',\n",
              " ' objetivo general',\n",
              " 'determinar las causas que influyen en el desempleo de las personas con discapacidad',\n",
              " 'la zona del ecuador durante el periodo de estudio ',\n",
              " ' objetivos específicos',\n",
              " ' identificar los tipos y grados de discapacidad que están presentes en el mercado de',\n",
              " 'trabajo en ecuador ',\n",
              " ' describir la información estadística sobre el desempleo en personas con discapacidad',\n",
              " 'en la zona metropolitana ',\n",
              " ' describir cómo se miden las condiciones socioeconómicas de las personas con',\n",
              " 'discapacidad ',\n",
              " ' señalar las políticas públicas concernientes a detener el desempleo de los',\n",
              " ' ',\n",
              " 'none',\n",
              " ' ',\n",
              " 'none',\n",
              " ' ',\n",
              " ' ',\n",
              " 'variables',\n",
              " 'dependiente',\n",
              " 'personas con',\n",
              " 'discapacidad ',\n",
              " 'desempleo es una situación en',\n",
              " 'que se encuentra quien',\n",
              " 'pudiendo y queriendo trabajar',\n",
              " 'pierde su empleo o ve reducida',\n",
              " 'su jornada ordinaria de',\n",
              " 'trabajo ',\n",
              " 'coeficiente de gini',\n",
              " 'pea de la zona en',\n",
              " 'discapacitados ',\n",
              " 'zona ',\n",
              " 'documental ',\n",
              " 'estadística y censo ',\n",
              " 'none',\n",
              " 'instituciones nacionales e',\n",
              " 'internaciones ',\n",
              " 'independiente',\n",
              " 'de la salud oms ',\n",
              " 'discapacidad es un fenómeno',\n",
              " 'complejo que refleja una',\n",
              " 'relación estrecha y al límite',\n",
              " 'entre las características del ser',\n",
              " 'humano y las características del',\n",
              " 'entorno en donde vive ',\n",
              " 'instituciones nacionales e',\n",
              " 'internaciones ',\n",
              " 'grado de discapacidad',\n",
              " 'edad',\n",
              " 'sexo',\n",
              " 'formación académica',\n",
              " 'personas con discapacidad',\n",
              " 'personas con discapacidad',\n",
              " 'laboralmente activas',\n",
              " 'grados de discapacidad',\n",
              " 'prevalencia de discapacidad',\n",
              " 'y edad ',\n",
              " 'sustituto de personas con',\n",
              " 'discapacidad ',\n",
              " 'económica y social ',\n",
              " 'políticas públicas',\n",
              " 'instituciones estatales ',\n",
              " 'igualdad de discapacidades ',\n",
              " 'actividad económica',\n",
              " 'planificación y desarrollo ',\n",
              " 'none',\n",
              " 'de a años',\n",
              " 'de a años',\n",
              " 'de a años',\n",
              " 'de a años',\n",
              " 'de en adelante',\n",
              " 'none',\n",
              " 'de a años',\n",
              " 'de a años',\n",
              " 'de a años',\n",
              " 'de a años',\n",
              " 'de en adelante',\n",
              " 'ocupación',\n",
              " 'empleado a obrero a privado',\n",
              " 'jornalero a o peón',\n",
              " 'patrono a ',\n",
              " 'empleado u obrero del estado ',\n",
              " 'none',\n",
              " 'municipio o consejo provincial',\n",
              " 'socio a ',\n",
              " 'cuenta propia',\n",
              " 'trabajador a no remunerado',\n",
              " 'empleado a doméstico a ',\n",
              " 'no declarado',\n",
              " 'total',\n",
              " 'descripción ene ',\n",
              " 'población en edad de trabajar ',\n",
              " 'población económicamente activa ',\n",
              " 'población con empleo ',\n",
              " 'empleo adecuado pleno ',\n",
              " 'subempleo ',\n",
              " 'empleo no remunerado ',\n",
              " 'otro empleo no pleno ',\n",
              " 'empleo no clasificado ',\n",
              " 'desempleo ',\n",
              " 'población económicamente inactiva ',\n",
              " 'adaptado de instituto nacional de estadística y censo inec link de acceso presentación de powerpoint',\n",
              " ' ecuadorencifras gob ec ',\n",
              " 'pichincha zona ',\n",
              " 'ichincha zona ',\n",
              " 'none',\n",
              " 'variables',\n",
              " 'none',\n",
              " 'none',\n",
              " 'none',\n",
              " 'none',\n",
              " 'dependiente empleo',\n",
              " 'none',\n",
              " 'none',\n",
              " 'none',\n",
              " 'none',\n",
              " 'none',\n",
              " 'none',\n",
              " 'none',\n",
              " 'none',\n",
              " 'none',\n",
              " 'none',\n",
              " 'políticas',\n",
              " 'independientes',\n",
              " 'públicas',\n",
              " 'none',\n",
              " 'none',\n",
              " 'none',\n",
              " 'none',\n",
              " 'none',\n",
              " 'none',\n",
              " 'none',\n",
              " 'none']"
            ]
          },
          "metadata": {},
          "execution_count": 85
        }
      ]
    },
    {
      "cell_type": "markdown",
      "source": [
        "# Matriz TF-IDF"
      ],
      "metadata": {
        "id": "gLkgPatECqIu"
      }
    },
    {
      "cell_type": "code",
      "source": [
        "from sklearn.feature_extraction.text import TfidfVectorizer\n",
        "vectorizer = TfidfVectorizer(stop_words= palabras_vacias,sublinear_tf=True)\n",
        "x = vectorizer.fit_transform(corpus)\n",
        "vocab = vectorizer.get_feature_names_out()"
      ],
      "metadata": {
        "id": "a5LdtHzIoJ5i"
      },
      "execution_count": null,
      "outputs": []
    },
    {
      "cell_type": "code",
      "source": [
        "vocab = vectorizer.get_feature_names_out()\n",
        "len(vocab)"
      ],
      "metadata": {
        "colab": {
          "base_uri": "https://localhost:8080/"
        },
        "id": "hT8wqD3roYZg",
        "outputId": "80034f65-fbb6-4b27-8371-3b5210ebf4ef"
      },
      "execution_count": null,
      "outputs": [
        {
          "output_type": "execute_result",
          "data": {
            "text/plain": [
              "254"
            ]
          },
          "metadata": {},
          "execution_count": 87
        }
      ]
    },
    {
      "cell_type": "code",
      "source": [
        "print(x.shape)"
      ],
      "metadata": {
        "colab": {
          "base_uri": "https://localhost:8080/"
        },
        "id": "uYAjQfueocJ_",
        "outputId": "eec31182-8944-4ca5-8e07-54f49688354d"
      },
      "execution_count": null,
      "outputs": [
        {
          "output_type": "stream",
          "name": "stdout",
          "text": [
            "(183, 254)\n"
          ]
        }
      ]
    },
    {
      "cell_type": "markdown",
      "source": [
        "#k-meas"
      ],
      "metadata": {
        "id": "DbknLJThWbms"
      }
    },
    {
      "cell_type": "code",
      "source": [
        "vocab"
      ],
      "metadata": {
        "colab": {
          "base_uri": "https://localhost:8080/"
        },
        "id": "zi0V7ZgWw_eN",
        "outputId": "3a63f2f4-afa5-421d-f4fa-2a93e815a35d"
      },
      "execution_count": null,
      "outputs": [
        {
          "output_type": "execute_result",
          "data": {
            "text/plain": [
              "array(['abstract', 'académica', 'acceso', 'aceptados', 'activa',\n",
              "       'activas', 'actividad', 'adaptado', 'adecuado', 'adjunto',\n",
              "       'afrontan', 'aguilar', 'analizadas', 'andrade', 'andradem',\n",
              "       'antecedentes', 'análisis', 'apellidos', 'aportar', 'aumentar',\n",
              "       'autor', 'años', 'belén', 'beneficiarios', 'brindar', 'búsqueda',\n",
              "       'cantidad', 'características', 'carácter', 'causas', 'censo',\n",
              "       'ciencias', 'clasificado', 'claves', 'coeficiente', 'complejo',\n",
              "       'concernientes', 'condiciones', 'conformada', 'conocimiento',\n",
              "       'consejo', 'contacto', 'contraposición', 'contratación', 'crear',\n",
              "       'declarado', 'demografía', 'dependiente', 'desarrollo',\n",
              "       'describir', 'descripción', 'desempleo', 'detener', 'determinar',\n",
              "       'diario', 'discapacidad', 'discapacidades', 'discapacitadas',\n",
              "       'discapacitados', 'distrito', 'documental', 'doméstico', 'ec',\n",
              "       'econ', 'economista', 'economía', 'económica', 'económicamente',\n",
              "       'económicas', 'económico', 'económicos', 'ecuador',\n",
              "       'ecuadorencifras', 'ecuatoriano', 'edad', 'edu', 'educativo',\n",
              "       'empleado', 'ene', 'entorno', 'escolaridad', 'especialidad',\n",
              "       'específicos', 'espera', 'estadística', 'estatales', 'estrecha',\n",
              "       'estudio', 'ext', 'extrema', 'facultad', 'fecha', 'fenómeno',\n",
              "       'ficha', 'finalidad', 'flores', 'formación', 'general',\n",
              "       'generales', 'ginger', 'gini', 'gob', 'grado', 'grados',\n",
              "       'guayaquil', 'humano', 'ichincha', 'identificar', 'igualdad',\n",
              "       'impactan', 'impulsar', 'inactiva', 'inclusivas', 'inclusión',\n",
              "       'independiente', 'independientes', 'indicadores', 'inec',\n",
              "       'influirían', 'influyen', 'información', 'ing', 'inserción',\n",
              "       'instituciones', 'institución', 'instituto', 'internaciones',\n",
              "       'investigación', 'jornada', 'jornalero', 'keywords', 'laboral',\n",
              "       'laborales', 'laboralmente', 'limita', 'link', 'local', 'límite',\n",
              "       'madelaine', 'maestría', 'mail', 'maría', 'mercado',\n",
              "       'metropolitana', 'metropolitano', 'mgs', 'miden', 'modalidad',\n",
              "       'moreira', 'msc', 'municipio', 'nacional', 'nacionales',\n",
              "       'narvaezoch', 'narváez', 'natalia', 'necesidades', 'nombre',\n",
              "       'nombres', 'none', 'normativa', 'número', 'objetivo', 'objetivos',\n",
              "       'obrero', 'obtenido', 'ochoa', 'octubre', 'ocupación', 'oms',\n",
              "       'oportunidades', 'ordinaria', 'palabras', 'pardo', 'pardoflores',\n",
              "       'patrono', 'pdf', 'pea', 'pensiones', 'periodo', 'persona',\n",
              "       'personas', 'peón', 'pichincha', 'pierde', 'planificación',\n",
              "       'pleno', 'población', 'pobreza', 'políticas', 'poseen', 'poseer',\n",
              "       'powerpoint', 'presentación', 'presentes', 'prevalencia',\n",
              "       'privado', 'problemas', 'proceso', 'productivo', 'promover',\n",
              "       'propósito', 'provincial', 'proyecto', 'publicación', 'pudiendo',\n",
              "       'páginas', 'públicas', 'queriendo', 'quito', 'reducida', 'reducir',\n",
              "       'refleja', 'registro', 'relación', 'remunerado', 'resultado',\n",
              "       'resumen', 'revisor', 'rosa', 'salud', 'semestral', 'sexo',\n",
              "       'señalar', 'significativamente', 'sinche', 'situación', 'sitúan',\n",
              "       'social', 'socio', 'socioeconómicas', 'subempleo', 'subtítulo',\n",
              "       'sustituto', 'tasa', 'tasas', 'teléfono', 'temáticas',\n",
              "       'territorial', 'tipo', 'tipos', 'titulación', 'trabajador',\n",
              "       'tutor', 'título', 'ug', 'unidad', 'universidad', 'usuarios',\n",
              "       'variables', 've', 'vive', 'zona', 'áreas'], dtype=object)"
            ]
          },
          "metadata": {},
          "execution_count": 89
        }
      ]
    },
    {
      "cell_type": "code",
      "source": [
        "from sklearn.cluster import KMeans\n",
        "ckm = KMeans(n_clusters=10).fit(x)\n",
        "ckm"
      ],
      "metadata": {
        "colab": {
          "base_uri": "https://localhost:8080/"
        },
        "id": "kD0DjKvmxlUv",
        "outputId": "4ca20e6d-9c2b-4c8a-8c84-11207193fe0c"
      },
      "execution_count": null,
      "outputs": [
        {
          "output_type": "execute_result",
          "data": {
            "text/plain": [
              "KMeans(n_clusters=10)"
            ]
          },
          "metadata": {},
          "execution_count": 90
        }
      ]
    },
    {
      "cell_type": "code",
      "source": [
        "dfpanda ['kmeans'] = ckm.labels_\n",
        "dfpanda"
      ],
      "metadata": {
        "colab": {
          "base_uri": "https://localhost:8080/",
          "height": 424
        },
        "id": "Us24qY5gx3zk",
        "outputId": "195d00f7-51eb-4d90-96a3-06f1c28bfebe"
      },
      "execution_count": null,
      "outputs": [
        {
          "output_type": "execute_result",
          "data": {
            "text/plain": [
              "          REPOSITORIO NACIONAL EN CIENCIA Y TECNOLOGÍA  kmeans  lda\n",
              "0           FICHA DE REGISTRO DE TRABAJO DE TITULACIÓN       0    8\n",
              "1    “El Desempleo de las personas con discapacidad...       5    1\n",
              "2                                  TÍTULO Y SUBTÍTULO:       0    0\n",
              "3    de planificación 9 del ecuador. Periodo 2016-2...       0    9\n",
              "4             AUTOR(ES) Narváez Ochoa Ginger Madelaine       0    0\n",
              "..                                                 ...     ...  ...\n",
              "178                                               None       7    4\n",
              "179                                               None       7    4\n",
              "180                                               None       7    4\n",
              "181                                               None       7    4\n",
              "182                                               None       7    4\n",
              "\n",
              "[183 rows x 3 columns]"
            ],
            "text/html": [
              "\n",
              "  <div id=\"df-f487569b-4f55-4179-811c-a6a55d3d80f0\">\n",
              "    <div class=\"colab-df-container\">\n",
              "      <div>\n",
              "<style scoped>\n",
              "    .dataframe tbody tr th:only-of-type {\n",
              "        vertical-align: middle;\n",
              "    }\n",
              "\n",
              "    .dataframe tbody tr th {\n",
              "        vertical-align: top;\n",
              "    }\n",
              "\n",
              "    .dataframe thead th {\n",
              "        text-align: right;\n",
              "    }\n",
              "</style>\n",
              "<table border=\"1\" class=\"dataframe\">\n",
              "  <thead>\n",
              "    <tr style=\"text-align: right;\">\n",
              "      <th></th>\n",
              "      <th>REPOSITORIO NACIONAL EN CIENCIA Y TECNOLOGÍA</th>\n",
              "      <th>kmeans</th>\n",
              "      <th>lda</th>\n",
              "    </tr>\n",
              "  </thead>\n",
              "  <tbody>\n",
              "    <tr>\n",
              "      <th>0</th>\n",
              "      <td>FICHA DE REGISTRO DE TRABAJO DE TITULACIÓN</td>\n",
              "      <td>0</td>\n",
              "      <td>8</td>\n",
              "    </tr>\n",
              "    <tr>\n",
              "      <th>1</th>\n",
              "      <td>“El Desempleo de las personas con discapacidad...</td>\n",
              "      <td>5</td>\n",
              "      <td>1</td>\n",
              "    </tr>\n",
              "    <tr>\n",
              "      <th>2</th>\n",
              "      <td>TÍTULO Y SUBTÍTULO:</td>\n",
              "      <td>0</td>\n",
              "      <td>0</td>\n",
              "    </tr>\n",
              "    <tr>\n",
              "      <th>3</th>\n",
              "      <td>de planificación 9 del ecuador. Periodo 2016-2...</td>\n",
              "      <td>0</td>\n",
              "      <td>9</td>\n",
              "    </tr>\n",
              "    <tr>\n",
              "      <th>4</th>\n",
              "      <td>AUTOR(ES) Narváez Ochoa Ginger Madelaine</td>\n",
              "      <td>0</td>\n",
              "      <td>0</td>\n",
              "    </tr>\n",
              "    <tr>\n",
              "      <th>...</th>\n",
              "      <td>...</td>\n",
              "      <td>...</td>\n",
              "      <td>...</td>\n",
              "    </tr>\n",
              "    <tr>\n",
              "      <th>178</th>\n",
              "      <td>None</td>\n",
              "      <td>7</td>\n",
              "      <td>4</td>\n",
              "    </tr>\n",
              "    <tr>\n",
              "      <th>179</th>\n",
              "      <td>None</td>\n",
              "      <td>7</td>\n",
              "      <td>4</td>\n",
              "    </tr>\n",
              "    <tr>\n",
              "      <th>180</th>\n",
              "      <td>None</td>\n",
              "      <td>7</td>\n",
              "      <td>4</td>\n",
              "    </tr>\n",
              "    <tr>\n",
              "      <th>181</th>\n",
              "      <td>None</td>\n",
              "      <td>7</td>\n",
              "      <td>4</td>\n",
              "    </tr>\n",
              "    <tr>\n",
              "      <th>182</th>\n",
              "      <td>None</td>\n",
              "      <td>7</td>\n",
              "      <td>4</td>\n",
              "    </tr>\n",
              "  </tbody>\n",
              "</table>\n",
              "<p>183 rows × 3 columns</p>\n",
              "</div>\n",
              "      <button class=\"colab-df-convert\" onclick=\"convertToInteractive('df-f487569b-4f55-4179-811c-a6a55d3d80f0')\"\n",
              "              title=\"Convert this dataframe to an interactive table.\"\n",
              "              style=\"display:none;\">\n",
              "        \n",
              "  <svg xmlns=\"http://www.w3.org/2000/svg\" height=\"24px\"viewBox=\"0 0 24 24\"\n",
              "       width=\"24px\">\n",
              "    <path d=\"M0 0h24v24H0V0z\" fill=\"none\"/>\n",
              "    <path d=\"M18.56 5.44l.94 2.06.94-2.06 2.06-.94-2.06-.94-.94-2.06-.94 2.06-2.06.94zm-11 1L8.5 8.5l.94-2.06 2.06-.94-2.06-.94L8.5 2.5l-.94 2.06-2.06.94zm10 10l.94 2.06.94-2.06 2.06-.94-2.06-.94-.94-2.06-.94 2.06-2.06.94z\"/><path d=\"M17.41 7.96l-1.37-1.37c-.4-.4-.92-.59-1.43-.59-.52 0-1.04.2-1.43.59L10.3 9.45l-7.72 7.72c-.78.78-.78 2.05 0 2.83L4 21.41c.39.39.9.59 1.41.59.51 0 1.02-.2 1.41-.59l7.78-7.78 2.81-2.81c.8-.78.8-2.07 0-2.86zM5.41 20L4 18.59l7.72-7.72 1.47 1.35L5.41 20z\"/>\n",
              "  </svg>\n",
              "      </button>\n",
              "      \n",
              "  <style>\n",
              "    .colab-df-container {\n",
              "      display:flex;\n",
              "      flex-wrap:wrap;\n",
              "      gap: 12px;\n",
              "    }\n",
              "\n",
              "    .colab-df-convert {\n",
              "      background-color: #E8F0FE;\n",
              "      border: none;\n",
              "      border-radius: 50%;\n",
              "      cursor: pointer;\n",
              "      display: none;\n",
              "      fill: #1967D2;\n",
              "      height: 32px;\n",
              "      padding: 0 0 0 0;\n",
              "      width: 32px;\n",
              "    }\n",
              "\n",
              "    .colab-df-convert:hover {\n",
              "      background-color: #E2EBFA;\n",
              "      box-shadow: 0px 1px 2px rgba(60, 64, 67, 0.3), 0px 1px 3px 1px rgba(60, 64, 67, 0.15);\n",
              "      fill: #174EA6;\n",
              "    }\n",
              "\n",
              "    [theme=dark] .colab-df-convert {\n",
              "      background-color: #3B4455;\n",
              "      fill: #D2E3FC;\n",
              "    }\n",
              "\n",
              "    [theme=dark] .colab-df-convert:hover {\n",
              "      background-color: #434B5C;\n",
              "      box-shadow: 0px 1px 3px 1px rgba(0, 0, 0, 0.15);\n",
              "      filter: drop-shadow(0px 1px 2px rgba(0, 0, 0, 0.3));\n",
              "      fill: #FFFFFF;\n",
              "    }\n",
              "  </style>\n",
              "\n",
              "      <script>\n",
              "        const buttonEl =\n",
              "          document.querySelector('#df-f487569b-4f55-4179-811c-a6a55d3d80f0 button.colab-df-convert');\n",
              "        buttonEl.style.display =\n",
              "          google.colab.kernel.accessAllowed ? 'block' : 'none';\n",
              "\n",
              "        async function convertToInteractive(key) {\n",
              "          const element = document.querySelector('#df-f487569b-4f55-4179-811c-a6a55d3d80f0');\n",
              "          const dataTable =\n",
              "            await google.colab.kernel.invokeFunction('convertToInteractive',\n",
              "                                                     [key], {});\n",
              "          if (!dataTable) return;\n",
              "\n",
              "          const docLinkHtml = 'Like what you see? Visit the ' +\n",
              "            '<a target=\"_blank\" href=https://colab.research.google.com/notebooks/data_table.ipynb>data table notebook</a>'\n",
              "            + ' to learn more about interactive tables.';\n",
              "          element.innerHTML = '';\n",
              "          dataTable['output_type'] = 'display_data';\n",
              "          await google.colab.output.renderOutput(dataTable, element);\n",
              "          const docLink = document.createElement('div');\n",
              "          docLink.innerHTML = docLinkHtml;\n",
              "          element.appendChild(docLink);\n",
              "        }\n",
              "      </script>\n",
              "    </div>\n",
              "  </div>\n",
              "  "
            ]
          },
          "metadata": {},
          "execution_count": 91
        }
      ]
    },
    {
      "cell_type": "code",
      "source": [
        "dfpanda[['REPOSITORIO NACIONAL EN CIENCIA Y TECNOLOGÍA','kmeans']].to_excel(\"/content/drive/My Drive/database/Proyecto_reviews_kmeans.xls\")"
      ],
      "metadata": {
        "colab": {
          "base_uri": "https://localhost:8080/"
        },
        "id": "DvrfB2fyyCmM",
        "outputId": "1b860b46-b49d-4441-e8a0-d9eed5d5eac9"
      },
      "execution_count": null,
      "outputs": [
        {
          "output_type": "stream",
          "name": "stderr",
          "text": [
            "<ipython-input-40-12d077831f2c>:1: FutureWarning: As the xlwt package is no longer maintained, the xlwt engine will be removed in a future version of pandas. This is the only engine in pandas that supports writing in the xls format. Install openpyxl and write to an xlsx file instead. You can set the option io.excel.xls.writer to 'xlwt' to silence this warning. While this option is deprecated and will also raise a warning, it can be globally set and the warning suppressed.\n",
            "  dfpanda[['REPOSITORIO NACIONAL EN CIENCIA Y TECNOLOGÍA','kmeans']].to_excel(\"/content/drive/My Drive/database/Proyecto_reviews_kmeans.xls\")\n"
          ]
        }
      ]
    },
    {
      "cell_type": "code",
      "source": [
        "import seaborn as sns\n",
        "sns.distplot(dfpanda['kmeans'])"
      ],
      "metadata": {
        "colab": {
          "base_uri": "https://localhost:8080/",
          "height": 355
        },
        "id": "z6vI6iO08NDE",
        "outputId": "b0bc54a8-4830-458e-da19-8f91afd2fcc1"
      },
      "execution_count": null,
      "outputs": [
        {
          "output_type": "stream",
          "name": "stderr",
          "text": [
            "/usr/local/lib/python3.8/dist-packages/seaborn/distributions.py:2619: FutureWarning: `distplot` is a deprecated function and will be removed in a future version. Please adapt your code to use either `displot` (a figure-level function with similar flexibility) or `histplot` (an axes-level function for histograms).\n",
            "  warnings.warn(msg, FutureWarning)\n"
          ]
        },
        {
          "output_type": "execute_result",
          "data": {
            "text/plain": [
              "<matplotlib.axes._subplots.AxesSubplot at 0x7f02dd0317f0>"
            ]
          },
          "metadata": {},
          "execution_count": 92
        },
        {
          "output_type": "display_data",
          "data": {
            "text/plain": [
              "<Figure size 432x288 with 1 Axes>"
            ],
            "image/png": "[encoded data removed]"
          },
          "metadata": {
            "needs_background": "light"
          }
        }
      ]
    },
    {
      "cell_type": "code",
      "source": [
        "\n",
        "import matplotlib.pyplot as plt\n",
        "\n",
        "fig, ax = plt.subplots(1, 1, figsize=(6, 8))\n",
        "\n",
        "sns.countplot(x=\"kmeans\", data=dfpanda)\n",
        "for p in ax.patches:\n",
        "    ax.annotate('{}'.format(p.get_height()), (p.get_x() + 0.3, p.get_height() + 20))"
      ],
      "metadata": {
        "colab": {
          "base_uri": "https://localhost:8080/",
          "height": 578
        },
        "id": "0xNW2_t_5aw6",
        "outputId": "d3b75425-499c-4900-f2c4-4725487cc505"
      },
      "execution_count": null,
      "outputs": [
        {
          "output_type": "display_data",
          "data": {
            "text/plain": [
              "<Figure size 432x576 with 1 Axes>"
            ],
            "image/png": "[encoded data removed]"
          },
          "metadata": {
            "needs_background": "light"
          }
        }
      ]
    },
    {
      "cell_type": "code",
      "source": [
        "from sklearn.preprocessing import StandardScaler\n",
        "dfpanda = dfpanda[['REPOSITORIO NACIONAL EN CIENCIA Y TECNOLOGÍA','kmeans']]\n",
        "print('Total Row : ', len(dfpanda))\n",
        "\n",
        "## Feature Scaling\n",
        "sc_dfa = StandardScaler()\n",
        "#dfa_std = sc_dfa.fit_transform(df.astype(float))\n",
        "sc_dfa"
      ],
      "metadata": {
        "colab": {
          "base_uri": "https://localhost:8080/"
        },
        "id": "9RSqtiqJyOUG",
        "outputId": "5af23be7-9c3b-4775-9a49-19a64ab11322"
      },
      "execution_count": null,
      "outputs": [
        {
          "output_type": "stream",
          "name": "stdout",
          "text": [
            "Total Row :  183\n"
          ]
        },
        {
          "output_type": "execute_result",
          "data": {
            "text/plain": [
              "StandardScaler()"
            ]
          },
          "metadata": {},
          "execution_count": 94
        }
      ]
    },
    {
      "cell_type": "code",
      "source": [
        "from sklearn.metrics import silhouette_samples, silhouette_score\n",
        "range_n_clusters = [7,5]\n",
        "for n_clusters in range_n_clusters:\n",
        " \n",
        " clusterer = KMeans(n_clusters=n_clusters, random_state=10)\n",
        " cluster_labels = clusterer.fit_predict(x)\n",
        " silhouette_avg = silhouette_score(x, cluster_labels)\n",
        " print( \"For n_clusters =\", \n",
        "          n_clusters, \n",
        "        \"The average silhouette_score is :\", \n",
        "          silhouette_avg, )"
      ],
      "metadata": {
        "colab": {
          "base_uri": "https://localhost:8080/"
        },
        "id": "WKbaNEFpyd8k",
        "outputId": "919ed037-4ced-406b-dd2d-d9a823d7cd79"
      },
      "execution_count": null,
      "outputs": [
        {
          "output_type": "stream",
          "name": "stdout",
          "text": [
            "For n_clusters = 7 The average silhouette_score is : 0.2520974173686539\n",
            "For n_clusters = 5 The average silhouette_score is : 0.2387236643276037\n"
          ]
        }
      ]
    },
    {
      "cell_type": "markdown",
      "source": [
        "# LDA "
      ],
      "metadata": {
        "id": "oarfl4x_CwAe"
      }
    },
    {
      "cell_type": "code",
      "source": [
        "from sklearn.decomposition import LatentDirichletAllocation\n",
        "import numpy as np"
      ],
      "metadata": {
        "id": "UgvRGNWCof7H"
      },
      "execution_count": null,
      "outputs": []
    },
    {
      "cell_type": "code",
      "source": [
        "lda_model = LatentDirichletAllocation(n_components=10,random_state=1)\n",
        "lda = lda_model.fit_transform(x)"
      ],
      "metadata": {
        "id": "mLfWD5oEojJG"
      },
      "execution_count": null,
      "outputs": []
    },
    {
      "cell_type": "code",
      "source": [
        "tp_palabras = {}\n",
        "n_top_pal = 10\n",
        "for topico, comp in enumerate(lda_model.components_):\n",
        "  pal_ind = np.argsort(comp)[::-1][:n_top_pal]\n",
        "  tp_palabras[topico] = [vocab[i] for i in pal_ind]"
      ],
      "metadata": {
        "id": "W-o6uVYtolwh"
      },
      "execution_count": null,
      "outputs": []
    },
    {
      "cell_type": "code",
      "source": [
        "for topico, palabras in tp_palabras.items():\n",
        "  print(\"Topico {} : {}\".format(topico,' ,'.join(palabras)))"
      ],
      "metadata": {
        "colab": {
          "base_uri": "https://localhost:8080/"
        },
        "id": "LebJ9fSaotJY",
        "outputId": "fbd6b7ec-f50a-4087-b437-e516d399312d"
      },
      "execution_count": null,
      "outputs": [
        {
          "output_type": "stream",
          "name": "stdout",
          "text": [
            "Topico 0 : personas ,pleno ,adecuado ,discapacitadas ,discapacidad ,describir ,desempleo ,zona ,formación ,ordinaria\n",
            "Topico 1 : discapacidad ,personas ,zona ,sexo ,prevalencia ,grado ,grados ,pichincha ,discapacidades ,actividad\n",
            "Topico 2 : instituciones ,población ,nacionales ,características ,independientes ,situación ,metropolitana ,estatales ,queriendo ,pudiendo\n",
            "Topico 3 : documental ,ocupación ,análisis ,obrero ,activas ,laboralmente ,empleado ,económico ,gob ,ecuadorencifras\n",
            "Topico 4 : none ,desempleo ,tasa ,censo ,estadística ,privado ,obrero ,empleado ,causas ,influyen\n",
            "Topico 5 : pea ,políticas ,independiente ,general ,públicas ,objetivo ,proyecto ,brindar ,finalidad ,investigación\n",
            "Topico 6 : públicas ,ecuador ,planificación ,específicos ,adjunto ,pdf ,laboral ,objetivos ,desarrollo ,inclusión\n",
            "Topico 7 : discapacidad ,dependiente ,remunerado ,socio ,declarado ,fenómeno ,doméstico ,trabajador ,social ,económica\n",
            "Topico 8 : variables ,personas ,ug ,edu ,sustituto ,ec ,inserción ,humano ,gini ,indicadores\n",
            "Topico 9 : años ,edad ,zona ,internaciones ,apellidos ,nombres ,subempleo ,clasificado ,discapacitados ,patrono\n"
          ]
        }
      ]
    },
    {
      "cell_type": "code",
      "source": [
        "topicos = []\n",
        "for n in range(lda.shape[0]):\n",
        "  topicos.append(lda[n].argmax())\n",
        "dfpanda['lda'] = topicos"
      ],
      "metadata": {
        "id": "hgr5_ZseDE_r"
      },
      "execution_count": null,
      "outputs": []
    },
    {
      "cell_type": "code",
      "source": [
        "dfpanda"
      ],
      "metadata": {
        "colab": {
          "base_uri": "https://localhost:8080/",
          "height": 424
        },
        "id": "B3POpmJdDNBe",
        "outputId": "490b8d4a-97c2-4929-ce9a-d346fb07a068"
      },
      "execution_count": null,
      "outputs": [
        {
          "output_type": "execute_result",
          "data": {
            "text/plain": [
              "          REPOSITORIO NACIONAL EN CIENCIA Y TECNOLOGÍA  kmeans  lda\n",
              "0           FICHA DE REGISTRO DE TRABAJO DE TITULACIÓN       0    8\n",
              "1    “El Desempleo de las personas con discapacidad...       5    1\n",
              "2                                  TÍTULO Y SUBTÍTULO:       0    0\n",
              "3    de planificación 9 del ecuador. Periodo 2016-2...       0    9\n",
              "4             AUTOR(ES) Narváez Ochoa Ginger Madelaine       0    0\n",
              "..                                                 ...     ...  ...\n",
              "178                                               None       7    4\n",
              "179                                               None       7    4\n",
              "180                                               None       7    4\n",
              "181                                               None       7    4\n",
              "182                                               None       7    4\n",
              "\n",
              "[183 rows x 3 columns]"
            ],
            "text/html": [
              "\n",
              "  <div id=\"df-d5ab1539-40df-402a-a575-9c877e9abd96\">\n",
              "    <div class=\"colab-df-container\">\n",
              "      <div>\n",
              "<style scoped>\n",
              "    .dataframe tbody tr th:only-of-type {\n",
              "        vertical-align: middle;\n",
              "    }\n",
              "\n",
              "    .dataframe tbody tr th {\n",
              "        vertical-align: top;\n",
              "    }\n",
              "\n",
              "    .dataframe thead th {\n",
              "        text-align: right;\n",
              "    }\n",
              "</style>\n",
              "<table border=\"1\" class=\"dataframe\">\n",
              "  <thead>\n",
              "    <tr style=\"text-align: right;\">\n",
              "      <th></th>\n",
              "      <th>REPOSITORIO NACIONAL EN CIENCIA Y TECNOLOGÍA</th>\n",
              "      <th>kmeans</th>\n",
              "      <th>lda</th>\n",
              "    </tr>\n",
              "  </thead>\n",
              "  <tbody>\n",
              "    <tr>\n",
              "      <th>0</th>\n",
              "      <td>FICHA DE REGISTRO DE TRABAJO DE TITULACIÓN</td>\n",
              "      <td>0</td>\n",
              "      <td>8</td>\n",
              "    </tr>\n",
              "    <tr>\n",
              "      <th>1</th>\n",
              "      <td>“El Desempleo de las personas con discapacidad...</td>\n",
              "      <td>5</td>\n",
              "      <td>1</td>\n",
              "    </tr>\n",
              "    <tr>\n",
              "      <th>2</th>\n",
              "      <td>TÍTULO Y SUBTÍTULO:</td>\n",
              "      <td>0</td>\n",
              "      <td>0</td>\n",
              "    </tr>\n",
              "    <tr>\n",
              "      <th>3</th>\n",
              "      <td>de planificación 9 del ecuador. Periodo 2016-2...</td>\n",
              "      <td>0</td>\n",
              "      <td>9</td>\n",
              "    </tr>\n",
              "    <tr>\n",
              "      <th>4</th>\n",
              "      <td>AUTOR(ES) Narváez Ochoa Ginger Madelaine</td>\n",
              "      <td>0</td>\n",
              "      <td>0</td>\n",
              "    </tr>\n",
              "    <tr>\n",
              "      <th>...</th>\n",
              "      <td>...</td>\n",
              "      <td>...</td>\n",
              "      <td>...</td>\n",
              "    </tr>\n",
              "    <tr>\n",
              "      <th>178</th>\n",
              "      <td>None</td>\n",
              "      <td>7</td>\n",
              "      <td>4</td>\n",
              "    </tr>\n",
              "    <tr>\n",
              "      <th>179</th>\n",
              "      <td>None</td>\n",
              "      <td>7</td>\n",
              "      <td>4</td>\n",
              "    </tr>\n",
              "    <tr>\n",
              "      <th>180</th>\n",
              "      <td>None</td>\n",
              "      <td>7</td>\n",
              "      <td>4</td>\n",
              "    </tr>\n",
              "    <tr>\n",
              "      <th>181</th>\n",
              "      <td>None</td>\n",
              "      <td>7</td>\n",
              "      <td>4</td>\n",
              "    </tr>\n",
              "    <tr>\n",
              "      <th>182</th>\n",
              "      <td>None</td>\n",
              "      <td>7</td>\n",
              "      <td>4</td>\n",
              "    </tr>\n",
              "  </tbody>\n",
              "</table>\n",
              "<p>183 rows × 3 columns</p>\n",
              "</div>\n",
              "      <button class=\"colab-df-convert\" onclick=\"convertToInteractive('df-d5ab1539-40df-402a-a575-9c877e9abd96')\"\n",
              "              title=\"Convert this dataframe to an interactive table.\"\n",
              "              style=\"display:none;\">\n",
              "        \n",
              "  <svg xmlns=\"http://www.w3.org/2000/svg\" height=\"24px\"viewBox=\"0 0 24 24\"\n",
              "       width=\"24px\">\n",
              "    <path d=\"M0 0h24v24H0V0z\" fill=\"none\"/>\n",
              "    <path d=\"M18.56 5.44l.94 2.06.94-2.06 2.06-.94-2.06-.94-.94-2.06-.94 2.06-2.06.94zm-11 1L8.5 8.5l.94-2.06 2.06-.94-2.06-.94L8.5 2.5l-.94 2.06-2.06.94zm10 10l.94 2.06.94-2.06 2.06-.94-2.06-.94-.94-2.06-.94 2.06-2.06.94z\"/><path d=\"M17.41 7.96l-1.37-1.37c-.4-.4-.92-.59-1.43-.59-.52 0-1.04.2-1.43.59L10.3 9.45l-7.72 7.72c-.78.78-.78 2.05 0 2.83L4 21.41c.39.39.9.59 1.41.59.51 0 1.02-.2 1.41-.59l7.78-7.78 2.81-2.81c.8-.78.8-2.07 0-2.86zM5.41 20L4 18.59l7.72-7.72 1.47 1.35L5.41 20z\"/>\n",
              "  </svg>\n",
              "      </button>\n",
              "      \n",
              "  <style>\n",
              "    .colab-df-container {\n",
              "      display:flex;\n",
              "      flex-wrap:wrap;\n",
              "      gap: 12px;\n",
              "    }\n",
              "\n",
              "    .colab-df-convert {\n",
              "      background-color: #E8F0FE;\n",
              "      border: none;\n",
              "      border-radius: 50%;\n",
              "      cursor: pointer;\n",
              "      display: none;\n",
              "      fill: #1967D2;\n",
              "      height: 32px;\n",
              "      padding: 0 0 0 0;\n",
              "      width: 32px;\n",
              "    }\n",
              "\n",
              "    .colab-df-convert:hover {\n",
              "      background-color: #E2EBFA;\n",
              "      box-shadow: 0px 1px 2px rgba(60, 64, 67, 0.3), 0px 1px 3px 1px rgba(60, 64, 67, 0.15);\n",
              "      fill: #174EA6;\n",
              "    }\n",
              "\n",
              "    [theme=dark] .colab-df-convert {\n",
              "      background-color: #3B4455;\n",
              "      fill: #D2E3FC;\n",
              "    }\n",
              "\n",
              "    [theme=dark] .colab-df-convert:hover {\n",
              "      background-color: #434B5C;\n",
              "      box-shadow: 0px 1px 3px 1px rgba(0, 0, 0, 0.15);\n",
              "      filter: drop-shadow(0px 1px 2px rgba(0, 0, 0, 0.3));\n",
              "      fill: #FFFFFF;\n",
              "    }\n",
              "  </style>\n",
              "\n",
              "      <script>\n",
              "        const buttonEl =\n",
              "          document.querySelector('#df-d5ab1539-40df-402a-a575-9c877e9abd96 button.colab-df-convert');\n",
              "        buttonEl.style.display =\n",
              "          google.colab.kernel.accessAllowed ? 'block' : 'none';\n",
              "\n",
              "        async function convertToInteractive(key) {\n",
              "          const element = document.querySelector('#df-d5ab1539-40df-402a-a575-9c877e9abd96');\n",
              "          const dataTable =\n",
              "            await google.colab.kernel.invokeFunction('convertToInteractive',\n",
              "                                                     [key], {});\n",
              "          if (!dataTable) return;\n",
              "\n",
              "          const docLinkHtml = 'Like what you see? Visit the ' +\n",
              "            '<a target=\"_blank\" href=https://colab.research.google.com/notebooks/data_table.ipynb>data table notebook</a>'\n",
              "            + ' to learn more about interactive tables.';\n",
              "          element.innerHTML = '';\n",
              "          dataTable['output_type'] = 'display_data';\n",
              "          await google.colab.output.renderOutput(dataTable, element);\n",
              "          const docLink = document.createElement('div');\n",
              "          docLink.innerHTML = docLinkHtml;\n",
              "          element.appendChild(docLink);\n",
              "        }\n",
              "      </script>\n",
              "    </div>\n",
              "  </div>\n",
              "  "
            ]
          },
          "metadata": {},
          "execution_count": 102
        }
      ]
    }
  ]
}